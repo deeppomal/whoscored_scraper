{
 "cells": [
  {
   "cell_type": "code",
   "execution_count": 16,
   "metadata": {},
   "outputs": [],
   "source": [
    "from selenium import webdriver \n",
    "import time \n",
    "from bs4 import BeautifulSoup\n",
    "import pandas as pd\n",
    "\n",
    "from selenium import webdriver\n",
    "from selenium.webdriver.chrome.options import Options\n",
    "from selenium.webdriver.common.by import By\n",
    "from selenium.webdriver.support.ui import WebDriverWait\n",
    "from selenium.webdriver.support import expected_conditions as EC\n",
    "from selenium.common.exceptions import TimeoutException, WebDriverException\n",
    "from selenium.webdriver.common.action_chains import ActionChains\n",
    "\n",
    "import time"
   ]
  },
  {
   "cell_type": "code",
   "execution_count": 17,
   "metadata": {},
   "outputs": [],
   "source": [
    "options = Options()\n",
    "options.add_argument(\"start-maximized\")\n",
    "options.add_argument(\"disable-infobars\")\n",
    "options.add_argument(\"--disable-extensions\")"
   ]
  },
  {
   "cell_type": "code",
   "execution_count": 18,
   "metadata": {},
   "outputs": [],
   "source": [
    "driver = webdriver.Chrome(executable_path =\"C:\\Program Files (x86)\\Google\\Chrome\\chromedriver.exe\") \n",
    "#Choose any league and click on player statistics now copy that url here. for eg we want premier league data so we'll need the following url\n",
    "website_URL =\"https://www.whoscored.com/Regions/252/Tournaments/2/Seasons/7811/Stages/17590/PlayerStatistics/England-Premier-League-2019-2020\"\n",
    "driver.get(website_URL) \n",
    "\n"
   ]
  },
  {
   "cell_type": "code",
   "execution_count": 19,
   "metadata": {},
   "outputs": [],
   "source": [
    "page = 1\n",
    "#Check the number of pages of data available of that league. For premier league it's 32 so we set max_page as 32\n",
    "max_page=32"
   ]
  },
  {
   "cell_type": "code",
   "execution_count": 20,
   "metadata": {},
   "outputs": [
    {
     "name": "stdout",
     "output_type": "stream",
     "text": [
      "Navigating to Next Page\n",
      "Navigating to Next Page\n",
      "Navigating to Next Page\n",
      "Navigating to Next Page\n",
      "Navigating to Next Page\n",
      "Navigating to Next Page\n",
      "Navigating to Next Page\n",
      "Navigating to Next Page\n",
      "Navigating to Next Page\n",
      "Navigating to Next Page\n",
      "Navigating to Next Page\n",
      "Navigating to Next Page\n",
      "Navigating to Next Page\n",
      "Navigating to Next Page\n",
      "Navigating to Next Page\n",
      "Navigating to Next Page\n",
      "Navigating to Next Page\n",
      "Navigating to Next Page\n",
      "Navigating to Next Page\n",
      "Navigating to Next Page\n",
      "Navigating to Next Page\n",
      "Navigating to Next Page\n",
      "Navigating to Next Page\n",
      "Navigating to Next Page\n",
      "Navigating to Next Page\n",
      "Navigating to Next Page\n",
      "Navigating to Next Page\n",
      "Navigating to Next Page\n",
      "Navigating to Next Page\n",
      "Navigating to Next Page\n",
      "Navigating to Next Page\n",
      "Navigating to Next Page\n",
      "Last page reached\n"
     ]
    }
   ],
   "source": [
    "    while True:\n",
    "        try:\n",
    "            \n",
    "            if page > max_page :\n",
    "                print(\"Last page reached\")\n",
    "                break\n",
    "            page+=1\n",
    "            for i in driver.find_elements_by_xpath(\"\"\"//*[@id=\"player-table-statistics-body\"]\"\"\"):\n",
    "                p_db=i.get_attribute('innerHTML')\n",
    "\n",
    "\n",
    "            p_db='<table>'+p_db+'</table>'\n",
    "\n",
    "            df=pd.read_html(p_db)[0]\n",
    "            df.drop(df.columns[1], axis=1)\n",
    "\n",
    "            df.to_csv('premier_league_ws.csv', mode='a', header=False,index=False)\n",
    "            index+=1\n",
    "            \n",
    "            driver.find_element_by_link_text(\"next\").click()\n",
    "            time.sleep(5)\n",
    "            print(\"Navigating to Next Page\")\n",
    "        except (TimeoutException, WebDriverException) as e:\n",
    "            print(\"Last page reached\")\n",
    "            break\n",
    "    driver.quit()"
   ]
  },
  {
   "cell_type": "code",
   "execution_count": null,
   "metadata": {},
   "outputs": [],
   "source": []
  },
  {
   "cell_type": "code",
   "execution_count": null,
   "metadata": {},
   "outputs": [],
   "source": []
  },
  {
   "cell_type": "code",
   "execution_count": null,
   "metadata": {},
   "outputs": [],
   "source": []
  }
 ],
 "metadata": {
  "kernelspec": {
   "display_name": "Python 3",
   "language": "python",
   "name": "python3"
  },
  "language_info": {
   "codemirror_mode": {
    "name": "ipython",
    "version": 3
   },
   "file_extension": ".py",
   "mimetype": "text/x-python",
   "name": "python",
   "nbconvert_exporter": "python",
   "pygments_lexer": "ipython3",
   "version": "3.7.3"
  }
 },
 "nbformat": 4,
 "nbformat_minor": 2
}
